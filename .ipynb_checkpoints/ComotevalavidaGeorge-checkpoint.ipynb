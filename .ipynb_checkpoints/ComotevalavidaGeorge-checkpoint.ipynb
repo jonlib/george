{
 "cells": [
  {
   "cell_type": "code",
   "execution_count": null,
   "metadata": {},
   "outputs": [],
   "source": [
    "import pandas as pd\n",
    "import os"
   ]
  },
  {
   "cell_type": "code",
   "execution_count": null,
   "metadata": {},
   "outputs": [],
   "source": [
    "file1 = pd.read_excel(\"complete_P_threshold_protein_group_FDR_0.01.xlsx\")"
   ]
  },
  {
   "cell_type": "code",
   "execution_count": null,
   "metadata": {},
   "outputs": [],
   "source": [
    "file1.head()"
   ]
  },
  {
   "cell_type": "code",
   "execution_count": null,
   "metadata": {},
   "outputs": [],
   "source": [
    "file1['filename'].tolist()"
   ]
  },
  {
   "cell_type": "markdown",
   "metadata": {},
   "source": [
    "interact\n",
    "S  /  HP  / H  / \n",
    "\n",
    "R2'\n",
    "'.ipro.pep.xml'"
   ]
  },
  {
   "cell_type": "code",
   "execution_count": null,
   "metadata": {},
   "outputs": [],
   "source": [
    "total_d = {}\n",
    "\n",
    "for filename in os.listdir(\"excels\"):\n",
    "    \n",
    "    #filename = \"interact-20190923-Imp-homogenizer-R1.ipro.prot.xls\"\n",
    "\n",
    "\n",
    "    df = pd.read_csv('excels/'+filename, sep='\\t')\n",
    "\n",
    "\n",
    "    for e in range(len(file1['filename'].tolist())):\n",
    "        f = file1['filename'].tolist()[e]\n",
    "        \n",
    "        if type(f) == str:\n",
    "            if f.split('.')[0] == filename.split('.')[0]:\n",
    "                #print(f)\n",
    "                limit = file1['limit'][e]\n",
    "                #print(file1['limit'][e])\n",
    "                #print(filename.split('.')[0][:-3])\n",
    "                experiment_case_name = filename.split('.')[0][:-3]\n",
    "                experiment_replica_number = int(filename.split('.')[0][-1])\n",
    "                #print(experiment_replica_number)\n",
    "\n",
    "\n",
    "    filtrado = df.loc[df['protein probability'] > limit]\n",
    "    \n",
    "    #print(\"{} ------   {}\".format(filename, len(filtrado)))\n",
    "    \n",
    "    #filtro2 = filtrado.loc[filtrado['group probability'] == filtrado['protein probability']]\n",
    "\n",
    "\n",
    "    new_df = filtrado[['protein', 'description']].copy()\n",
    "\n",
    "    final_df = new_df.drop_duplicates(subset =\"protein\")\n",
    "    \n",
    "    print(\"{} ------   {}\".format(filename, len(final_df)))\n",
    "    \n",
    "    \n",
    "    if experiment_case_name not in total_d:\n",
    "        total_d[experiment_case_name] = {}\n",
    "    \n",
    "    total_d[experiment_case_name][experiment_replica_number] = final_df\n",
    "    print(experiment_replica_number)\n",
    "    #final_df.to_excel(\"aquitienes.xls\", index=False)\n",
    "    #final_df.head()\n",
    "\n",
    "#procesar replicas\n",
    "\n",
    "overlap_d = {}\n",
    "\n",
    "experiment_count = 0\n",
    "\n",
    "for experiment_case in total_d:\n",
    "    \n",
    "    experiment_count += 1\n",
    "    print(\"Analysing :{}\".format(experiment_case))\n",
    "    print(\"Case number :{}\".format(experiment_count))\n",
    "    experiment_proteins = []\n",
    "    protein_dict = {}\n",
    "    for replica_number in total_d[experiment_case]:\n",
    "        print(\"\\n    Checking replica number: {}\".format(replica_number))\n",
    "        df_replica = total_d[experiment_case][replica_number]\n",
    "        proteins = df_replica['protein'].tolist()\n",
    "        for protein in proteins:\n",
    "            if protein in protein_dict:\n",
    "                protein_dict[protein] += 1\n",
    "            else:\n",
    "                protein_dict[protein] = 1\n",
    "        \n",
    "    overlapping_proteins = []\n",
    "    for prot in protein_dict:\n",
    "        if protein_dict[prot] >=3:\n",
    "            overlapping_proteins.append(prot)\n",
    "\n",
    "    print(\"Overlapping proteins found: {} \\n\\n\".format(len(overlapping_proteins)))\n",
    "    #print(overlapping_proteins)\n",
    "\n",
    "\n",
    "    overlap_protein_descriptions = {}\n",
    "    for protein in overlapping_proteins:\n",
    "        description = df_replica.set_index('protein').loc[protein].description\n",
    "        overlap_protein_descriptions[protein] = description\n",
    "        #print(description)\n",
    "\n",
    "    overlap_d[experiment_case] = overlap_protein_descriptions\n",
    "    \n",
    "\n",
    "        \n",
    "\n"
   ]
  },
  {
   "cell_type": "code",
   "execution_count": null,
   "metadata": {},
   "outputs": [],
   "source": [
    "meat_dict = {}\n",
    "\n",
    "for case_name in overlap_d:\n",
    "    d = overlap_d[case_name]\n",
    "    method = case_name.split('-')[1]  # method sera 'H'\n",
    "    meat = case_name.split('-')[2]  # meat sera 'beef'\n",
    "    \n",
    "    if meat not in meat_dict:\n",
    "        meat_dict[meat] = {}\n",
    "    \n",
    "    meat_dict[meat][method] = d\n",
    "    \n",
    "\n",
    "proteins_in_each_meat = {}\n",
    "\n",
    "overlap_proteins = {}\n",
    "\n",
    "for meat in meat_dict:\n",
    "    \n",
    "    proteins_in_each_meat[meat] = {}\n",
    "    overlap_proteins[meat] = {}\n",
    "    \n",
    "    protein_count = {}\n",
    "    for method in meat_dict[meat]:\n",
    "        for protein in meat_dict[meat][method]:\n",
    "            if protein not in protein_count:\n",
    "                protein_count[protein] = 0\n",
    "            protein_count[protein] += 1\n",
    "\n",
    "    for protein in protein_count:\n",
    "        if protein_count[protein] >= 3:\n",
    "            overlap_proteins[meat][protein] = meat_dict[meat]['H'][protein]\n",
    "                \n",
    "        "
   ]
  },
  {
   "cell_type": "code",
   "execution_count": null,
   "metadata": {},
   "outputs": [],
   "source": [
    "for meat in overlap_proteins:\n",
    "    df_result = pd.DataFrame(list(overlap_proteins[meat].items()), columns=['Protein', 'Description'])\n",
    "    df_result.to_excel(meat+\"-proteins.xls\", index=False)"
   ]
  },
  {
   "cell_type": "code",
   "execution_count": null,
   "metadata": {},
   "outputs": [],
   "source": []
  },
  {
   "cell_type": "code",
   "execution_count": null,
   "metadata": {},
   "outputs": [],
   "source": []
  },
  {
   "cell_type": "code",
   "execution_count": null,
   "metadata": {},
   "outputs": [],
   "source": []
  },
  {
   "cell_type": "code",
   "execution_count": null,
   "metadata": {},
   "outputs": [],
   "source": []
  },
  {
   "cell_type": "code",
   "execution_count": null,
   "metadata": {},
   "outputs": [],
   "source": []
  }
 ],
 "metadata": {
  "kernelspec": {
   "display_name": "Python 2",
   "language": "python",
   "name": "python2"
  },
  "language_info": {
   "codemirror_mode": {
    "name": "ipython",
    "version": 3
   },
   "file_extension": ".py",
   "mimetype": "text/x-python",
   "name": "python",
   "nbconvert_exporter": "python",
   "pygments_lexer": "ipython3",
   "version": "3.6.8"
  }
 },
 "nbformat": 4,
 "nbformat_minor": 2
}
