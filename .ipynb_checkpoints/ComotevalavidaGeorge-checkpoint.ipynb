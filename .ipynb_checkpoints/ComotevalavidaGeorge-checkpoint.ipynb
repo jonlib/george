{
 "cells": [
  {
   "cell_type": "code",
   "execution_count": 42,
   "metadata": {},
   "outputs": [],
   "source": [
    "import pandas as pd"
   ]
  },
  {
   "cell_type": "code",
   "execution_count": 45,
   "metadata": {},
   "outputs": [],
   "source": [
    "file1 = pd.read_excel(\"complete_P_threshold_protein_group_FDR_0.01.xlsx\")"
   ]
  },
  {
   "cell_type": "code",
   "execution_count": 46,
   "metadata": {},
   "outputs": [
    {
     "data": {
      "text/html": [
       "<div>\n",
       "<style scoped>\n",
       "    .dataframe tbody tr th:only-of-type {\n",
       "        vertical-align: middle;\n",
       "    }\n",
       "\n",
       "    .dataframe tbody tr th {\n",
       "        vertical-align: top;\n",
       "    }\n",
       "\n",
       "    .dataframe thead th {\n",
       "        text-align: right;\n",
       "    }\n",
       "</style>\n",
       "<table border=\"1\" class=\"dataframe\">\n",
       "  <thead>\n",
       "    <tr style=\"text-align: right;\">\n",
       "      <th></th>\n",
       "      <th>20190926-boil+sonication/24_10_19_analysis</th>\n",
       "      <th>Unnamed: 1</th>\n",
       "      <th>20190930-homogenizer_powder/db3_analysis</th>\n",
       "      <th>Unnamed: 3</th>\n",
       "      <th>20190923-homogenizer/24_10_19_analysis</th>\n",
       "      <th>Unnamed: 5</th>\n",
       "    </tr>\n",
       "  </thead>\n",
       "  <tbody>\n",
       "    <tr>\n",
       "      <th>0</th>\n",
       "      <td>interact-S-beff-R1.ipro.pep.xml</td>\n",
       "      <td>0.8140</td>\n",
       "      <td>interact-HP-Beff-R1.ipro.prot.xml</td>\n",
       "      <td>0.8448</td>\n",
       "      <td>interact-20190923-Imp-homogenizer-R1.ipro.prot...</td>\n",
       "      <td>0.8605</td>\n",
       "    </tr>\n",
       "    <tr>\n",
       "      <th>1</th>\n",
       "      <td>interact-S-beff-R2.ipro.pep.xml</td>\n",
       "      <td>0.9026</td>\n",
       "      <td>interact-HP-Beff-R2.ipro.prot.xml</td>\n",
       "      <td>0.7643</td>\n",
       "      <td>interact-20190923-Imp-homogenizer-R2.ipro.prot...</td>\n",
       "      <td>0.7716</td>\n",
       "    </tr>\n",
       "    <tr>\n",
       "      <th>2</th>\n",
       "      <td>interact-S-beff-R3.ipro.pep.xml</td>\n",
       "      <td>0.8450</td>\n",
       "      <td>interact-HP-Beff-R3.ipro.prot.xml</td>\n",
       "      <td>0.8094</td>\n",
       "      <td>interact-20190923-Imp-homogenizer-R3.ipro.prot...</td>\n",
       "      <td>0.8873</td>\n",
       "    </tr>\n",
       "    <tr>\n",
       "      <th>3</th>\n",
       "      <td>interact-S-bey-R1.ipro.prot.xml</td>\n",
       "      <td>0.8661</td>\n",
       "      <td>interact-HP-Bey-R1.ipro.prot.xml</td>\n",
       "      <td>0.8440</td>\n",
       "      <td>interact-bey-R1.ipro.prot.xml</td>\n",
       "      <td>0.8187</td>\n",
       "    </tr>\n",
       "    <tr>\n",
       "      <th>4</th>\n",
       "      <td>interact-S-bey-R2.ipro.prot.xml</td>\n",
       "      <td>0.9190</td>\n",
       "      <td>interact-HP-Bey-R2.ipro.prot.xml</td>\n",
       "      <td>0.8784</td>\n",
       "      <td>interact-bey-R2.ipro.prot.xml</td>\n",
       "      <td>0.9266</td>\n",
       "    </tr>\n",
       "  </tbody>\n",
       "</table>\n",
       "</div>"
      ],
      "text/plain": [
       "  20190926-boil+sonication/24_10_19_analysis  Unnamed: 1  \\\n",
       "0            interact-S-beff-R1.ipro.pep.xml      0.8140   \n",
       "1           interact-S-beff-R2.ipro.pep.xml       0.9026   \n",
       "2           interact-S-beff-R3.ipro.pep.xml       0.8450   \n",
       "3           interact-S-bey-R1.ipro.prot.xml       0.8661   \n",
       "4           interact-S-bey-R2.ipro.prot.xml       0.9190   \n",
       "\n",
       "  20190930-homogenizer_powder/db3_analysis  Unnamed: 3  \\\n",
       "0       interact-HP-Beff-R1.ipro.prot.xml       0.8448   \n",
       "1        interact-HP-Beff-R2.ipro.prot.xml      0.7643   \n",
       "2        interact-HP-Beff-R3.ipro.prot.xml      0.8094   \n",
       "3        interact-HP-Bey-R1.ipro.prot.xml       0.8440   \n",
       "4        interact-HP-Bey-R2.ipro.prot.xml       0.8784   \n",
       "\n",
       "              20190923-homogenizer/24_10_19_analysis  Unnamed: 5  \n",
       "0  interact-20190923-Imp-homogenizer-R1.ipro.prot...      0.8605  \n",
       "1  interact-20190923-Imp-homogenizer-R2.ipro.prot...      0.7716  \n",
       "2  interact-20190923-Imp-homogenizer-R3.ipro.prot...      0.8873  \n",
       "3                     interact-bey-R1.ipro.prot.xml       0.8187  \n",
       "4                     interact-bey-R2.ipro.prot.xml       0.9266  "
      ]
     },
     "execution_count": 46,
     "metadata": {},
     "output_type": "execute_result"
    }
   ],
   "source": [
    "file1.head()"
   ]
  },
  {
   "cell_type": "code",
   "execution_count": 53,
   "metadata": {},
   "outputs": [
    {
     "name": "stdout",
     "output_type": "stream",
     "text": [
      "interact-S-beff-R1.ipro.prot.xls\n",
      "interact-S-beff-R2.ipro.prot.xls\n",
      "interact-S-beff-R3.ipro.prot.xls\n",
      "interact-S-bey-R1.ipro.prot.xls\n",
      "interact-S-bey-R2.ipro.prot.xls\n",
      "interact-S-bey-R3.ipro.prot.xls\n",
      "interact-S-Imp-R1.ipro.prot.xls\n",
      "interact-S-Imp-R2.ipro.prot.xls\n",
      "interact-S-Imp-R3.ipro.prot.xls\n",
      "interact-HP-Beff-R1.ipro.prot.xls\n",
      "interact-HP-Beff-R2.ipro.prot.xls\n",
      "interact-HP-Beff-R3.ipro.prot.xls\n",
      "interact-HP-Bey-R1.ipro.prot.xls\n",
      "interact-HP-Bey-R2.ipro.prot.xls\n",
      "interact-HP-Bey-R3.ipro.prot.xls\n",
      "interact-HP-Imp-R1.ipro.prot.xls\n",
      "nteract-HP-Imp-R2.ipro.prot.xls\n",
      "nteract-HP-Imp-R3.ipro.prot.xls\n",
      "interact-20190923-Imp-homogenizer-R1.ipro.prot.xls\n",
      "interact-20190923-Imp-homogenizer-R2.ipro.prot.xls\n",
      "interact-20190923-Imp-homogenizer-R3.ipro.prot.xls\n",
      "interact-bey-R1.ipro.prot.xls\n",
      "interact-bey-R2.ipro.prot.xls\n",
      "interact-bey-R3.ipro.prot.xls\n",
      "interact-bff-R1.ipro.prot.xls\n",
      "interact-bff-R2.ipro.prot.xls\n",
      "interact-bff-R3.ipro.prot.xls\n"
     ]
    }
   ],
   "source": [
    "folders = file1.columns[::2].tolist()\n",
    "for folder in folders:\n",
    "    for e in range(len(file1[folder])):\n",
    "        filename = file1[folder][e].split('.')[0] + '.ipro.prot.xls'\n",
    "        print(filename)\n",
    "        \n",
    "        filename = \"interact-20190923-Imp-homogenizer-R1.ipro.prot.xls\"\n",
    "\n",
    "\n",
    "        df = pd.read_csv(filename, sep='\\t')\n",
    "\n",
    "        for e in range(len(file1['20190926-boil+sonication/24_10_19_analysis'].tolist())):\n",
    "            f = file1['20190926-boil+sonication/24_10_19_analysis'].tolist()[e]\n",
    "            if type(f) == str:\n",
    "                if f.split('.')[0] == filename.split('.')[0]:\n",
    "                    print(f)\n",
    "                    limit = file1['Unnamed: 1'][e]\n",
    "                    print(file1['Unnamed: 1'][e])\n",
    "        print(limit)\n",
    "\n",
    "        filtrado = df.loc[df['group probability'] > limit]\n",
    "        filtro2 = filtrado.loc[filtrado['group probability'] == filtrado['protein probability']]\n",
    "\n",
    "        filtro2.head()\n",
    "\n",
    "        new_df = filtro2[['protein', 'description']].copy()\n",
    "\n",
    "        final_df = new_df.drop_duplicates(subset =\"protein\")\n",
    "\n",
    "        final_df.to_excel(\"aquitienes.xls\", index=False)\n"
   ]
  },
  {
   "cell_type": "code",
   "execution_count": 41,
   "metadata": {},
   "outputs": [
    {
     "name": "stdout",
     "output_type": "stream",
     "text": [
      "interact-20190923-Imp-homogenizer-R1.ipro.prot.xml\n",
      "0.8605\n",
      "0.8605\n"
     ]
    }
   ],
   "source": [
    "filename = \"interact-20190923-Imp-homogenizer-R1.ipro.prot.xls\"\n",
    "\n",
    "\n",
    "df = pd.read_csv(filename, sep='\\t')\n",
    "\n",
    "for e in range(len(file1['20190926-boil+sonication/24_10_19_analysis'].tolist())):\n",
    "    f = file1['20190926-boil+sonication/24_10_19_analysis'].tolist()[e]\n",
    "    if type(f) == str:\n",
    "        if f.split('.')[0] == filename.split('.')[0]:\n",
    "            print(f)\n",
    "            limit = file1['Unnamed: 1'][e]\n",
    "            print(file1['Unnamed: 1'][e])\n",
    "print(limit)\n",
    "\n",
    "filtrado = df.loc[df['group probability'] > limit]\n",
    "filtro2 = filtrado.loc[filtrado['group probability'] == filtrado['protein probability']]\n",
    "\n",
    "filtro2.head()\n",
    "\n",
    "new_df = filtro2[['protein', 'description']].copy()\n",
    "\n",
    "final_df = new_df.drop_duplicates(subset =\"protein\")\n",
    "\n",
    "final_df.to_excel(\"aquitienes.xls\", index=False)"
   ]
  },
  {
   "cell_type": "code",
   "execution_count": null,
   "metadata": {},
   "outputs": [],
   "source": []
  },
  {
   "cell_type": "code",
   "execution_count": 39,
   "metadata": {},
   "outputs": [],
   "source": [
    "proteins = final_df['protein'].tolist()\n",
    "new_p = [p.split('_')[-1] for p in proteins]\n",
    "\n",
    "new_p\n",
    "d = {}\n",
    "for e in new_p:\n",
    "    if e in d:\n",
    "        d[e] += 1\n",
    "    else:\n",
    "        d[e] = 1"
   ]
  },
  {
   "cell_type": "code",
   "execution_count": 40,
   "metadata": {},
   "outputs": [
    {
     "data": {
      "text/plain": [
       "{'SOYBN': 29,\n",
       " 'PIG': 1,\n",
       " 'SOLTU': 10,\n",
       " 'ORYSJ': 5,\n",
       " 'PEA': 3,\n",
       " 'BOVIN': 1,\n",
       " 'ORYLA': 1}"
      ]
     },
     "execution_count": 40,
     "metadata": {},
     "output_type": "execute_result"
    }
   ],
   "source": [
    "d"
   ]
  },
  {
   "cell_type": "code",
   "execution_count": 33,
   "metadata": {},
   "outputs": [
    {
     "data": {
      "text/plain": [
       "protein                                    sp|P04776|GLYG1_SOYBN\n",
       "description    Glycinin G1 OS=Glycine max OX=3847 GN=GY1 PE=1...\n",
       "Name: 39, dtype: object"
      ]
     },
     "execution_count": 33,
     "metadata": {},
     "output_type": "execute_result"
    }
   ],
   "source": [
    "final_df.iloc[3]"
   ]
  },
  {
   "cell_type": "code",
   "execution_count": 36,
   "metadata": {},
   "outputs": [
    {
     "name": "stdout",
     "output_type": "stream",
     "text": [
      "entry no.                                                                       49\n",
      "group probability                                                           0.3668\n",
      "protein                          sp|A1A4R1|H2A2C_BOVIN,sp|A2WQG7|H2A5_ORYSI,sp|...\n",
      "protein link                     http://tpp-4.6.3/tpp-release/cgi-bin/comet-fas...\n",
      "protein probability                                                         0.3668\n",
      "percent coverage                                                                 7\n",
      "num unique peps                                                                  1\n",
      "tot indep spectra                                                                1\n",
      "percent share of spectrum ids                                                 0.02\n",
      "description                      Histone H2A type 2-C OS=Bos taurus OX=9913 GN=...\n",
      "protein molecular weight                 ;;;;;;;;;;;;;;;;;;;;;;;;;;;;;;;;;;;;;;;;;\n",
      "protein length                        129;;;;;;;;;;;;;;;;;;;;;;;;;;;;;;;;;;;;;;;;;\n",
      "is nondegenerate evidence                                                        Y\n",
      "weight                                                                           1\n",
      "precursor ion charge                                                             0\n",
      "peptide sequence                                                         AGLQFPVGR\n",
      "peptide link                     http://tpp-4.6.3/tpp-release/cgi-bin/peptidexm...\n",
      "nsp adjusted probability                                                    0.3668\n",
      "initial probability                                                         0.9126\n",
      "n tol termini                                                                    2\n",
      "n sibling peptides bin                                                           0\n",
      "n instances                                                                      1\n",
      "peptide group designator                                                       NaN\n",
      "is evidence                                                                      Y\n",
      "Name: 1180, dtype: object\n",
      "\n",
      "\n",
      "\n",
      "entry no.                                                                       63\n",
      "group probability                                                                0\n",
      "protein                                                       sp|P07205|PGK2_HUMAN\n",
      "protein link                     http://tpp-4.6.3/tpp-release/cgi-bin/comet-fas...\n",
      "protein probability                                                              0\n",
      "percent coverage                                                               NaN\n",
      "num unique peps                                                                  0\n",
      "tot indep spectra                                                                0\n",
      "percent share of spectrum ids                                                  NaN\n",
      "description                      Phosphoglycerate kinase 2 OS=Homo sapiens OX=9...\n",
      "protein molecular weight                                                       NaN\n",
      "protein length                                                                 417\n",
      "is nondegenerate evidence                                                        Y\n",
      "weight                                                                           1\n",
      "precursor ion charge                                                             0\n",
      "peptide sequence                                                 ALENPVRPFLAILGGAK\n",
      "peptide link                     http://tpp-4.6.3/tpp-release/cgi-bin/peptidexm...\n",
      "nsp adjusted probability                                                    0.0854\n",
      "initial probability                                                         0.6274\n",
      "n tol termini                                                                    2\n",
      "n sibling peptides bin                                                           0\n",
      "n instances                                                                      1\n",
      "peptide group designator                                                       NaN\n",
      "is evidence                                                                      N\n",
      "Name: 1208, dtype: object\n",
      "\n",
      "\n",
      "\n"
     ]
    }
   ],
   "source": [
    "for e in range(len(filtro2['protein'].tolist())):\n",
    "    #if final_df['protein'].tolist()[e]\n",
    "    if filtro2['protein'].tolist()[e][-5:] == 'HUMAN':\n",
    "        print(filtro2.iloc[e])\n",
    "        print('\\n'*2)"
   ]
  },
  {
   "cell_type": "code",
   "execution_count": null,
   "metadata": {},
   "outputs": [],
   "source": []
  }
 ],
 "metadata": {
  "kernelspec": {
   "display_name": "Python 2",
   "language": "python",
   "name": "python2"
  },
  "language_info": {
   "codemirror_mode": {
    "name": "ipython",
    "version": 3
   },
   "file_extension": ".py",
   "mimetype": "text/x-python",
   "name": "python",
   "nbconvert_exporter": "python",
   "pygments_lexer": "ipython3",
   "version": "3.6.8"
  }
 },
 "nbformat": 4,
 "nbformat_minor": 2
}
