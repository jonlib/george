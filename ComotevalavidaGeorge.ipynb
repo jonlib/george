{
 "cells": [
  {
   "cell_type": "code",
   "execution_count": 64,
   "metadata": {},
   "outputs": [],
   "source": [
    "import pandas as pd\n",
    "import os"
   ]
  },
  {
   "cell_type": "code",
   "execution_count": 65,
   "metadata": {},
   "outputs": [],
   "source": [
    "file1 = pd.read_excel(\"complete_P_threshold_protein_group_FDR_0.01(1).xlsx\")"
   ]
  },
  {
   "cell_type": "code",
   "execution_count": 66,
   "metadata": {},
   "outputs": [
    {
     "data": {
      "text/html": [
       "<div>\n",
       "<style scoped>\n",
       "    .dataframe tbody tr th:only-of-type {\n",
       "        vertical-align: middle;\n",
       "    }\n",
       "\n",
       "    .dataframe tbody tr th {\n",
       "        vertical-align: top;\n",
       "    }\n",
       "\n",
       "    .dataframe thead th {\n",
       "        text-align: right;\n",
       "    }\n",
       "</style>\n",
       "<table border=\"1\" class=\"dataframe\">\n",
       "  <thead>\n",
       "    <tr style=\"text-align: right;\">\n",
       "      <th></th>\n",
       "      <th>protein</th>\n",
       "      <th>limit</th>\n",
       "    </tr>\n",
       "  </thead>\n",
       "  <tbody>\n",
       "    <tr>\n",
       "      <th>0</th>\n",
       "      <td>interact-S-beef-R1.ipro.pep.xml</td>\n",
       "      <td>0.8140</td>\n",
       "    </tr>\n",
       "    <tr>\n",
       "      <th>1</th>\n",
       "      <td>interact-S-beef-R2.ipro.pep.xml</td>\n",
       "      <td>0.9026</td>\n",
       "    </tr>\n",
       "    <tr>\n",
       "      <th>2</th>\n",
       "      <td>interact-S-beef-R3.ipro.pep.xml</td>\n",
       "      <td>0.8450</td>\n",
       "    </tr>\n",
       "    <tr>\n",
       "      <th>3</th>\n",
       "      <td>interact-S-bey-R1.ipro.prot.xml</td>\n",
       "      <td>0.8661</td>\n",
       "    </tr>\n",
       "    <tr>\n",
       "      <th>4</th>\n",
       "      <td>interact-S-bey-R2.ipro.prot.xml</td>\n",
       "      <td>0.9190</td>\n",
       "    </tr>\n",
       "  </tbody>\n",
       "</table>\n",
       "</div>"
      ],
      "text/plain": [
       "                            protein   limit\n",
       "0   interact-S-beef-R1.ipro.pep.xml  0.8140\n",
       "1  interact-S-beef-R2.ipro.pep.xml   0.9026\n",
       "2  interact-S-beef-R3.ipro.pep.xml   0.8450\n",
       "3  interact-S-bey-R1.ipro.prot.xml   0.8661\n",
       "4  interact-S-bey-R2.ipro.prot.xml   0.9190"
      ]
     },
     "execution_count": 66,
     "metadata": {},
     "output_type": "execute_result"
    }
   ],
   "source": [
    "file1.head()"
   ]
  },
  {
   "cell_type": "code",
   "execution_count": 61,
   "metadata": {},
   "outputs": [
    {
     "data": {
      "text/plain": [
       "['interact-S-beff-R1.ipro.pep.xml',\n",
       " 'interact-S-beff-R2.ipro.pep.xml ',\n",
       " 'interact-S-beff-R3.ipro.pep.xml ',\n",
       " 'interact-S-bey-R1.ipro.prot.xml ',\n",
       " 'interact-S-bey-R2.ipro.prot.xml ',\n",
       " 'interact-S-bey-R3.ipro.prot.xml ',\n",
       " 'interact-S-Imp-R1.ipro.prot.xml ',\n",
       " 'interact-S-Imp-R2.ipro.prot.xml ',\n",
       " 'interact-S-Imp-R3.ipro.prot.xml ',\n",
       " 'interact-HP-Beff-R1.ipro.prot.xml ',\n",
       " 'interact-HP-Beff-R2.ipro.prot.xml',\n",
       " 'interact-HP-Beff-R3.ipro.prot.xml',\n",
       " 'interact-HP-Bey-R1.ipro.prot.xml ',\n",
       " 'interact-HP-Bey-R2.ipro.prot.xml ',\n",
       " 'interact-HP-Bey-R3.ipro.prot.xml ',\n",
       " 'interact-HP-Imp-R1.ipro.prot.xml ',\n",
       " 'nteract-HP-Imp-R2.ipro.prot.xml ',\n",
       " 'nteract-HP-Imp-R3.ipro.prot.xml ',\n",
       " 'interact-20190923-Imp-homogenizer-R1.ipro.prot.xml',\n",
       " 'interact-20190923-Imp-homogenizer-R2.ipro.prot.xml ',\n",
       " 'interact-20190923-Imp-homogenizer-R3.ipro.prot.xml ',\n",
       " 'interact-bey-R1.ipro.prot.xml ',\n",
       " 'interact-bey-R2.ipro.prot.xml ',\n",
       " 'interact-bey-R3.ipro.prot.xml ',\n",
       " 'interact-bff-R1.ipro.prot.xml',\n",
       " 'interact-bff-R2.ipro.prot.xml ',\n",
       " 'interact-bff-R3.ipro.prot.xml']"
      ]
     },
     "execution_count": 61,
     "metadata": {},
     "output_type": "execute_result"
    }
   ],
   "source": [
    "file1['filename'].tolist()"
   ]
  },
  {
   "cell_type": "markdown",
   "metadata": {},
   "source": [
    "interact\n",
    "S  /  HP  / H  / \n",
    "\n",
    "R2'\n",
    "'.ipro.pep.xml'"
   ]
  },
  {
   "cell_type": "code",
   "execution_count": 54,
   "metadata": {},
   "outputs": [
    {
     "name": "stdout",
     "output_type": "stream",
     "text": [
      "Analysing :interact-bff\n",
      "\n",
      "    Checking replica number: 1\n",
      "Overlapping proteins found: 0 \n",
      "\n",
      "\n",
      "Analysing :interact-S-Imp\n",
      "\n",
      "    Checking replica number: 1\n",
      "\n",
      "    Checking replica number: 2\n",
      "\n",
      "    Checking replica number: 3\n",
      "Overlapping proteins found: 40 \n",
      "\n",
      "\n",
      "Analysing :interact-20190923-Imp-homogenizer\n",
      "\n",
      "    Checking replica number: 1\n",
      "Overlapping proteins found: 0 \n",
      "\n",
      "\n",
      "Analysing :interact-bey\n",
      "\n",
      "    Checking replica number: 3\n",
      "Overlapping proteins found: 0 \n",
      "\n",
      "\n"
     ]
    }
   ],
   "source": [
    "total_d = {}\n",
    "\n",
    "for filename in os.listdir(\"excels\"):\n",
    "    \n",
    "    #filename = \"interact-20190923-Imp-homogenizer-R1.ipro.prot.xls\"\n",
    "\n",
    "\n",
    "    df = pd.read_csv('excels/'+filename, sep='\\t')\n",
    "\n",
    "    for e in range(len(file1['filename'].tolist())):\n",
    "        f = file1['filename'].tolist()[e]\n",
    "        if type(f) == str:\n",
    "            if f.split('.')[0] == filename.split('.')[0]:\n",
    "                #print(f)\n",
    "                limit = file1['limit'][e]\n",
    "                #print(file1['limit'][e])\n",
    "                #print(filename.split('.')[0][:-3])\n",
    "                experiment_case_name = filename.split('.')[0][:-3]\n",
    "                experiment_replica_number = int(filename.split('.')[0][-1])\n",
    "                #print(experiment_replica_number)\n",
    "                    \n",
    "\n",
    "\n",
    "    filtrado = df.loc[df['protein probability'] > limit]\n",
    "    #filtro2 = filtrado.loc[filtrado['group probability'] == filtrado['protein probability']]\n",
    "\n",
    "\n",
    "    new_df = filtrado[['protein', 'description']].copy()\n",
    "\n",
    "    final_df = new_df.drop_duplicates(subset =\"protein\")\n",
    "    \n",
    "    if experiment_case_name not in total_d:\n",
    "        total_d[experiment_case_name] = {}\n",
    "    \n",
    "    total_d[experiment_case_name][experiment_replica_number] = final_df\n",
    "\n",
    "    #final_df.to_excel(\"aquitienes.xls\", index=False)\n",
    "    #final_df.head()\n",
    "\n",
    "#procesar replicas\n",
    "\n",
    "overlap_d = {}\n",
    "\n",
    "for experiment_case in total_d:\n",
    "    print(\"Analysing :{}\".format(experiment_case))\n",
    "    \n",
    "    experiment_proteins = []\n",
    "    protein_dict = {}\n",
    "    for replica_number in total_d[experiment_case]:\n",
    "        print(\"\\n    Checking replica number: {}\".format(replica_number))\n",
    "        df_replica = total_d[experiment_case][replica_number]\n",
    "        proteins = df_replica['protein'].tolist()\n",
    "        for protein in proteins:\n",
    "            if protein in protein_dict:\n",
    "                protein_dict[protein] += 1\n",
    "            else:\n",
    "                protein_dict[protein] = 1\n",
    "        \n",
    "    overlapping_proteins = []\n",
    "    for prot in protein_dict:\n",
    "        if protein_dict[prot] >=3:\n",
    "            overlapping_proteins.append(prot)\n",
    "\n",
    "    print(\"Overlapping proteins found: {} \\n\\n\".format(len(overlapping_proteins)))\n",
    "    #print(overlapping_proteins)\n",
    "\n",
    "\n",
    "    overlap_protein_descriptions = {}\n",
    "    for protein in overlapping_proteins:\n",
    "        description = df_replica.set_index('protein').loc[protein].description\n",
    "        overlap_protein_descriptions[protein] = description\n",
    "        #print(description)\n",
    "\n",
    "    overlap_d[experiment_case] = overlap_protein_descriptions\n",
    "    \n",
    "\n",
    "        \n",
    "\n"
   ]
  },
  {
   "cell_type": "code",
   "execution_count": 68,
   "metadata": {},
   "outputs": [
    {
     "data": {
      "text/plain": [
       "{'interact-bff': {},\n",
       " 'interact-S-Imp': {'sp|I1N2Z5|SLE1_SOYBN': 'Protein SLE1 OS=Glycine max OX=3847 GN=SLE1 PE=2 SV=1',\n",
       "  'sp|O24387|CPI5_SOLTU,sp|O24388|CPI3_SOLTU,sp|P20347|CPI1_SOLTU': 'Cysteine protease inhibitor 5 (Fragment) OS=Solanum tuberosum OX=4113 PE=2 SV=1,Cysteine protease inhibitor 3 (Fragment) OS=Solanum tuberosum OX=4113 PE=2 SV=1,Cysteine protease inhibitor 1 OS=Solanum tuberosum OX=4113 PE=1 SV=3',\n",
       "  'sp|P00761|TRYP_PIG': 'Trypsin OS=Sus scrofa OX=9823 PE=1 SV=1',\n",
       "  'sp|P04405|GLYG2_SOYBN': 'Glycinin G2 OS=Glycine max OX=3847 GN=GY2 PE=1 SV=2',\n",
       "  'sp|P04776|GLYG1_SOYBN': 'Glycinin G1 OS=Glycine max OX=3847 GN=GY1 PE=1 SV=2',\n",
       "  'sp|P05046|LEC_SOYBN': 'Lectin OS=Glycine max OX=3847 GN=LE1 PE=1 SV=1',\n",
       "  'sp|P11828|GLYG3_SOYBN': 'Glycinin G3 OS=Glycine max OX=3847 GN=GY3 PE=1 SV=1',\n",
       "  'sp|P19594|2SS_SOYBN': '2S albumin OS=Glycine max OX=3847 PE=1 SV=2',\n",
       "  'sp|P22895|P34_SOYBN': 'P34 probable thiol protease OS=Glycine max OX=3847 PE=1 SV=1',\n",
       "  'sp|Q01417|PM1_SOYBN': '18 kDa seed maturation protein OS=Glycine max OX=3847 GN=GMPM1 PE=2 SV=1',\n",
       "  'sp|Q04672|SBP_SOYBN': 'Sucrose-binding protein OS=Glycine max OX=3847 GN=SBP PE=1 SV=1',\n",
       "  'sp|Q39846|SBP65_SOYBN': 'Seed biotin-containing protein SBP65 OS=Glycine max OX=3847 GN=SBP65 PE=2 SV=1',\n",
       "  'sp|I1JLC8|SLE2_SOYBN': 'Protein SLE2 OS=Glycine max OX=3847 GN=SLE2 PE=2 SV=1',\n",
       "  'sp|O24385|CPI7_SOLTU': 'Cysteine protease inhibitor 7 (Fragment) OS=Solanum tuberosum OX=4113 PE=2 SV=1',\n",
       "  'sp|O24383|CPI10_SOLTU,sp|O24384|CPI8_SOLTU': 'Cysteine protease inhibitor 10 (Fragment) OS=Solanum tuberosum OX=4113 PE=2 SV=1,Cysteine protease inhibitor 8 (Fragment) OS=Solanum tuberosum OX=4113 PE=2 SV=1',\n",
       "  'sp|P01070|ITRA_SOYBN': 'Trypsin inhibitor A OS=Glycine max OX=3847 GN=KTI3 PE=1 SV=2',\n",
       "  'sp|P02236|LGB2_SOYBN': 'Leghemoglobin C2 OS=Glycine max OX=3847 PE=1 SV=2',\n",
       "  'sp|P02858|GLYG4_SOYBN': 'Glycinin G4 OS=Glycine max OX=3847 GN=GY4 PE=1 SV=2',\n",
       "  'sp|P04347|GLYG5_SOYBN': 'Glycinin G5 OS=Glycine max OX=3847 GN=GY5 PE=1 SV=1',\n",
       "  'sp|P08454|ICID_SOLTU': 'Wound-induced proteinase inhibitor 1 OS=Solanum tuberosum OX=4113 PE=1 SV=2',\n",
       "  'sp|P01052|ICIA_SOLTU': 'Chymotrypsin inhibitor I, A, B and C subunits OS=Solanum tuberosum OX=4113 PE=1 SV=1',\n",
       "  'sp|P09186|LOX3_SOYBN': 'Seed linoleate 9S-lipoxygenase-3 OS=Glycine max OX=3847 GN=LOX1.3 PE=1 SV=1',\n",
       "  'sp|P08170|LOX1_SOYBN': 'Seed linoleate 13S-lipoxygenase-1 OS=Glycine max OX=3847 GN=LOX1.1 PE=1 SV=2',\n",
       "  'sp|P09439|LOX2_SOYBN': 'Seed linoleate 9S-lipoxygenase-2 OS=Glycine max OX=3847 GN=LOX1.2 PE=2 SV=1',\n",
       "  'sp|P0DO15|GLCA2_SOYBN,sp|P0DO16|GLCA1_SOYBN': 'Beta-conglycinin alpha subunit 2 OS=Glycine max OX=3847 GN=CG-2 PE=1 SV=1,Beta-conglycinin alpha subunit 1 OS=Glycine max OX=3847 GN=CG-3 PE=1 SV=1',\n",
       "  'sp|P25974|GLCB1_SOYBN': 'Beta-conglycinin beta subunit 1 OS=Glycine max OX=3847 GN=CG-4 PE=1 SV=2',\n",
       "  'sp|F7J077|GLCB2_SOYBN': 'Beta-conglycinin beta subunit 2 OS=Glycine max OX=3847 GN=CG-4 PE=1 SV=1',\n",
       "  'sp|P10538|AMYB_SOYBN': 'Beta-amylase OS=Glycine max OX=3847 GN=BMY1 PE=1 SV=3',\n",
       "  'sp|P11827|GLCAP_SOYBN': \"Beta-conglycinin alpha' subunit OS=Glycine max OX=3847 GN=CG-1 PE=1 SV=2\",\n",
       "  'sp|P13917|7SB1_SOYBN': 'Basic 7S globulin OS=Glycine max OX=3847 GN=BG PE=1 SV=2',\n",
       "  'sp|Q8RVH5|7SBG2_SOYBN': 'Basic 7S globulin 2 OS=Glycine max OX=3847 PE=1 SV=1',\n",
       "  'sp|P25272|KTI1_SOYBN': 'Kunitz-type trypsin inhibitor KTI1 OS=Glycine max OX=3847 GN=KTI1 PE=2 SV=1',\n",
       "  'sp|Q41448|API7_SOLTU': 'Aspartic protease inhibitor 7 OS=Solanum tuberosum OX=4113 PE=2 SV=1',\n",
       "  'sp|P58514|SPI1_SOLTU': 'Serine protease inhibitor 1 OS=Solanum tuberosum OX=4113 PE=1 SV=2',\n",
       "  'sp|Q41484|SPI5_SOLTU': 'Serine protease inhibitor 5 OS=Solanum tuberosum OX=4113 PE=1 SV=1',\n",
       "  'sp|Q41488|IP25_SOLTU': 'Proteinase inhibitor type-2 P303.51 OS=Solanum tuberosum OX=4113 PE=2 SV=1',\n",
       "  'sp|Q7FAH2|G3PC2_ORYSJ': 'Glyceraldehyde-3-phosphate dehydrogenase 2, cytosolic OS=Oryza sativa subsp. japonica OX=39947 GN=GAPC2 PE=1 SV=1',\n",
       "  'sp|Q9LKR3|MD37A_ARATH': 'Mediator of RNA polymerase II transcription subunit 37a OS=Arabidopsis thaliana OX=3702 GN=MED37A PE=1 SV=1',\n",
       "  'sp|P01064|IBBD2_SOYBN': 'Bowman-Birk type proteinase inhibitor D-II OS=Glycine max OX=3847 PE=1 SV=2',\n",
       "  'sp|Q7XDC8|MDHC_ORYSJ': 'Malate dehydrogenase, cytoplasmic OS=Oryza sativa subsp. japonica OX=39947 GN=Os10g0478200 PE=1 SV=3'},\n",
       " 'interact-20190923-Imp-homogenizer': {},\n",
       " 'interact-bey': {}}"
      ]
     },
     "execution_count": 68,
     "metadata": {},
     "output_type": "execute_result"
    }
   ],
   "source": [
    "overlap_d"
   ]
  },
  {
   "cell_type": "code",
   "execution_count": 58,
   "metadata": {},
   "outputs": [
    {
     "data": {
      "text/plain": [
       "'Protein SLE1 OS=Glycine max OX=3847 GN=SLE1 PE=2 SV=1'"
      ]
     },
     "execution_count": 58,
     "metadata": {},
     "output_type": "execute_result"
    }
   ],
   "source": [
    "overlap_d['interact-S-Imp']['sp|I1N2Z5|SLE1_SOYBN']"
   ]
  },
  {
   "cell_type": "code",
   "execution_count": null,
   "metadata": {},
   "outputs": [],
   "source": []
  }
 ],
 "metadata": {
  "kernelspec": {
   "display_name": "Python 2",
   "language": "python",
   "name": "python2"
  },
  "language_info": {
   "codemirror_mode": {
    "name": "ipython",
    "version": 3
   },
   "file_extension": ".py",
   "mimetype": "text/x-python",
   "name": "python",
   "nbconvert_exporter": "python",
   "pygments_lexer": "ipython3",
   "version": "3.6.8"
  }
 },
 "nbformat": 4,
 "nbformat_minor": 2
}
